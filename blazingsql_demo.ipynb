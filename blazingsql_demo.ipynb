{
  "nbformat": 4,
  "nbformat_minor": 0,
  "metadata": {
    "colab": {
      "name": "blazingsql_demo.ipynb",
      "version": "0.3.2",
      "provenance": [],
      "collapsed_sections": [],
      "toc_visible": true,
      "include_colab_link": true
    },
    "kernelspec": {
      "name": "python3",
      "display_name": "Python 3"
    },
    "accelerator": "GPU"
  },
  "cells": [
    {
      "cell_type": "markdown",
      "metadata": {
        "id": "view-in-github",
        "colab_type": "text"
      },
      "source": [
        "<a href=\"https://colab.research.google.com/github/kkrbalam/Python/blob/master/blazingsql_demo.ipynb\" target=\"_parent\"><img src=\"https://colab.research.google.com/assets/colab-badge.svg\" alt=\"Open In Colab\"/></a>"
      ]
    },
    {
      "cell_type": "markdown",
      "metadata": {
        "id": "8AdUt3HiUrc3",
        "colab_type": "text"
      },
      "source": [
        "#Get Started with Blazing SQL\n",
        "\n",
        "In this notebook, we will walk through the process for getting BlazingSQL and cuDF running. We will then demonstrate a basic ETL process and query a csv. \n",
        "\n",
        "Please click the 'Open in Playground Mode Option ' to run this demo on your own. \n",
        "\n",
        "Feel free to add your own code or modify ours as needed.\n",
        "\n",
        "\n",
        "Background Info:\n",
        "[BlazingSQL](http://blazingdb.com/#/)\n",
        "[RAPIDS AI/cuDF](https://rapids.ai/about.html)\n"
      ]
    },
    {
      "cell_type": "markdown",
      "metadata": {
        "id": "_h26epJpUeZP",
        "colab_type": "text"
      },
      "source": [
        "# Setup"
      ]
    },
    {
      "cell_type": "markdown",
      "metadata": {
        "id": "MtSoZpHpboW1",
        "colab_type": "text"
      },
      "source": [
        ""
      ]
    },
    {
      "cell_type": "markdown",
      "metadata": {
        "id": "McVBO7GHRDzz",
        "colab_type": "text"
      },
      "source": [
        "## Environment Sanity Check \n",
        "\n",
        "Once you are in Playground mode, click the Runtime dropdown at the top of the page, then Change Runtime Type and confirm the instance type has GPU selected for 'Hardware Accelerator'.\n",
        "\n",
        "Check the output of '!nvidia-smi' to make sure you've been allocated a Tesla T4.\n"
      ]
    },
    {
      "cell_type": "code",
      "metadata": {
        "id": "_lf6yKBoRYGy",
        "colab_type": "code",
        "outputId": "9bfd946e-e849-459a-93d1-21b79486c4e9",
        "colab": {
          "base_uri": "https://localhost:8080/",
          "height": 306
        }
      },
      "source": [
        "!nvidia-smi"
      ],
      "execution_count": 0,
      "outputs": [
        {
          "output_type": "stream",
          "text": [
            "Thu Jul 18 00:10:37 2019       \n",
            "+-----------------------------------------------------------------------------+\n",
            "| NVIDIA-SMI 418.67       Driver Version: 410.79       CUDA Version: 10.0     |\n",
            "|-------------------------------+----------------------+----------------------+\n",
            "| GPU  Name        Persistence-M| Bus-Id        Disp.A | Volatile Uncorr. ECC |\n",
            "| Fan  Temp  Perf  Pwr:Usage/Cap|         Memory-Usage | GPU-Util  Compute M. |\n",
            "|===============================+======================+======================|\n",
            "|   0  Tesla T4            Off  | 00000000:00:04.0 Off |                    0 |\n",
            "| N/A   64C    P0    31W /  70W |      0MiB / 15079MiB |      0%      Default |\n",
            "+-------------------------------+----------------------+----------------------+\n",
            "                                                                               \n",
            "+-----------------------------------------------------------------------------+\n",
            "| Processes:                                                       GPU Memory |\n",
            "|  GPU       PID   Type   Process name                             Usage      |\n",
            "|=============================================================================|\n",
            "|  No running processes found                                                 |\n",
            "+-----------------------------------------------------------------------------+\n"
          ],
          "name": "stdout"
        }
      ]
    },
    {
      "cell_type": "markdown",
      "metadata": {
        "id": "whWnF2pJ5VCW",
        "colab_type": "text"
      },
      "source": [
        "Sometimes Google Colab will assign a Tesla K80 (which we do not support), so the script below helps confirm you have a T4 GPU attached to your runtime."
      ]
    },
    {
      "cell_type": "code",
      "metadata": {
        "id": "Z8vQLr1pRakc",
        "colab_type": "code",
        "outputId": "427871e2-3664-4eb9-de58-daa8f61748a1",
        "colab": {
          "base_uri": "https://localhost:8080/",
          "height": 34
        }
      },
      "source": [
        "import pynvml\n",
        "\n",
        "\n",
        "pynvml.nvmlInit()\n",
        "handle = pynvml.nvmlDeviceGetHandleByIndex(0)\n",
        "device_name = pynvml.nvmlDeviceGetName(handle)\n",
        "\n",
        "if device_name != b'Tesla T4':\n",
        "  raise Exception(\"\"\"\n",
        "    Unfortunately this instance does not have a T4 GPU.\n",
        "    \n",
        "    Please make sure you've configured Colab to request a GPU instance type.\n",
        "    \n",
        "    Sometimes Colab allocates a Tesla K80 instead of a T4. Resetting the instance.\n",
        "\n",
        "    If you get a K80 GPU, try Runtime -> Reset all runtimes...\n",
        "  \"\"\")\n",
        "else:\n",
        "  print('Woo! You got the right kind of GPU!')"
      ],
      "execution_count": 0,
      "outputs": [
        {
          "output_type": "stream",
          "text": [
            "Woo! You got the right kind of GPU!\n"
          ],
          "name": "stdout"
        }
      ]
    },
    {
      "cell_type": "markdown",
      "metadata": {
        "id": "xM8xTlqeRi-g",
        "colab_type": "text"
      },
      "source": [
        "## Install BlazingSQL + cuDF\n",
        "This will take roughly a minute and a half.\n",
        "\n",
        "cuDF is the RAPIDS AI GPU DataFrame library with a Pandas-like API. Learn more about cuDF [here](https://github.com/rapidsai/cudf)."
      ]
    },
    {
      "cell_type": "code",
      "metadata": {
        "id": "roG-52LWRsRC",
        "colab_type": "code",
        "outputId": "67ff09aa-ded3-4e2b-ac62-5510239e598e",
        "colab": {
          "base_uri": "https://localhost:8080/",
          "height": 1000
        }
      },
      "source": [
        "!bash -c \"$(wget -q https://s3.amazonaws.com/blazingsql-colab/install.sh -O -)\""
      ],
      "execution_count": 0,
      "outputs": [
        {
          "output_type": "stream",
          "text": [
            "PYTHON: python3\n",
            "VERSION: Python 3.6.8\n",
            "PIP: pip3\n",
            "VERBOSE: /dev/null\n",
            "SUDO: \n",
            "PATH_USR: /usr/\n",
            "### update ###\n",
            "### dependencies ###\n",
            "(Reading database ... 131779 files and directories currently installed.)\n",
            "Removing cmake (3.10.2-1ubuntu2) ...\n",
            "Removing google-perftools (2.5-2.2ubuntu3) ...\n",
            "Removing curl (7.58.0-2ubuntu3.7) ...\n",
            "Removing r-cran-devtools (2.0.2-1cran1ppabionic0) ...\n",
            "Removing r-cran-usethis (1.5.0-1cran1ppabionic0) ...\n",
            "Removing r-cran-tidyverse (1.2.1-3cran1ppa0bionic0) ...\n",
            "Removing r-cran-modelr (0.1.4-1cran1ppabionic0) ...\n",
            "Removing r-base (3.6.0-2bionic) ...\n",
            "Removing r-recommended (3.6.0-2bionic) ...\n",
            "Removing r-cran-boot (1.3-22-1cran1ppabionic0) ...\n",
            "Removing libcurl4-openssl-dev:amd64 (7.58.0-2ubuntu3.7) ...\n",
            "Removing r-cran-readxl (1.3.1-1cran1ppabionic0) ...\n",
            "Removing r-cran-haven (2.1.0-1cran1ppabionic0) ...\n",
            "Removing littler (0.3.8-1bionic0) ...\n",
            "Removing r-base-dev (3.6.0-2bionic) ...\n",
            "Removing r-cran-rvest (0.3.4-1cran1ppabionic0) ...\n",
            "Removing r-cran-progress (1.2.2-1cran1ppabionic0) ...\n",
            "Removing r-cran-rcmdcheck (1.3.3-1cran1ppabionic0) ...\n",
            "Removing r-cran-pkgload (1.0.2-1cran1ppabionic0) ...\n",
            "Removing r-cran-pkgbuild (1.0.3-1cran1ppabionic0) ...\n",
            "Removing r-cran-broom (0.5.2-1cran1ppabionic0) ...\n",
            "Removing r-cran-reprex (0.3.0-1cran1ppabionic0) ...\n",
            "Removing r-cran-rmarkdown (1.13-1cran1ppabionic0) ...\n",
            "Removing r-cran-base64enc (0.1-3-3cran2ppa0bionic0) ...\n",
            "Removing r-cran-ggplot2 (3.2.0-1cran1ppabionic0) ...\n",
            "Removing r-cran-svglite (1.2.2-1cran1ppabionic0) ...\n",
            "Removing r-cran-readr (1.3.1-1cran1ppabionic0) ...\n",
            "Removing r-cran-callr (3.2.0-1cran1ppabionic0) ...\n",
            "Removing r-cran-cellranger (1.1.0-1.1ubuntu1) ...\n",
            "Removing r-cran-class (7.3-15-1cran1ppabionic0) ...\n",
            "Removing r-cran-sessioninfo (1.1.1-1cran1ppabionic0) ...\n",
            "Removing r-cran-clipr (0.6.0-1cran1ppabionic0) ...\n",
            "Removing r-cran-clisymbols (1.2.0-3cran1ppa0bionic0) ...\n",
            "Removing r-cran-cluster (2.1.0-1bionic0) ...\n",
            "Removing r-cran-codetools (0.2-16-1cran1ppabionic0) ...\n",
            "Removing r-cran-scales (1.0.0-1cran1ppabionic0) ...\n",
            "Removing r-cran-munsell (0.5.0-3cran1ppa0bionic0) ...\n",
            "Removing r-cran-colorspace (1.4-1-1cran1ppabionic0) ...\n",
            "Removing r-cran-dbplyr (1.4.2-1cran1ppabionic0) ...\n",
            "Removing r-cran-dbi (1.0.0-3cran1ppa0bionic0) ...\n",
            "Removing r-cran-forcats (0.4.0-1cran1ppabionic0) ...\n",
            "Removing r-cran-ellipsis (0.2.0-1cran1ppabionic0) ...\n",
            "Removing r-cran-knitr (1.23-1cran1ppabionic0) ...\n",
            "Removing r-cran-evaluate (0.14-1cran1ppabionic0) ...\n",
            "Removing r-cran-foreign (0.8.71-3cranppa0bionic0) ...\n",
            "Removing r-cran-fs (1.3.1-1cran1ppabionic0) ...\n",
            "Removing r-cran-gdtools (0.1.9-1cran1ppabionic0) ...\n",
            "Removing r-cran-generics (0.0.2-1cran1ppabionic0) ...\n",
            "Removing r-cran-gh (1.0.1-3cran1ppa0bionic0) ...\n",
            "Removing r-cran-git2r (0.26.0-1cran1ppabionic0) ...\n",
            "Removing r-cran-selectr (0.4-1-3cran1ppa0bionic0) ...\n",
            "Removing r-cran-gtable (0.3.0-1cran1ppabionic0) ...\n",
            "Removing r-cran-highr (0.8-1cran1ppabionic0) ...\n",
            "Removing r-cran-hms (0.4.2-3cran1ppa0bionic0) ...\n",
            "Removing r-cran-htmltools (0.3.6-3cran1ppa0bionic0) ...\n",
            "Removing r-cran-ini (0.3.1-3cran1ppa0bionic0) ...\n",
            "Removing r-cran-kernsmooth (2.23-15-3cranArtful0~ubuntu18.04.1~ppa1) ...\n",
            "Removing r-cran-labeling (0.3-3cran2ppa0bionic0) ...\n",
            "Removing r-cran-mgcv (1.8-28-1cran1ppabionic0) ...\n",
            "Removing r-cran-nlme (3.1.140-1ppabionic0) ...\n",
            "Removing r-cran-rpart (4.1-15-1cran1ppabionic0) ...\n",
            "Removing r-cran-survival (2.44-1.1-1cran1ppabionic0) ...\n",
            "Removing r-cran-matrix (1.2-17-1cran1ppabionic0) ...\n",
            "Removing r-cran-lattice (0.20-38-1cran1ppabionic0) ...\n",
            "Removing r-cran-lazyeval (0.2.2-1cran1ppabionic0) ...\n",
            "Removing r-cran-lubridate (1.7.4-3cran1ppa0bionic0) ...\n",
            "Removing r-cran-markdown (0.9-1cran1~ubuntu18.04.1~ppa1) ...\n",
            "Removing r-cran-mass (7.3-51.4-1cran1ppabionic0) ...\n",
            "Removing r-cran-memoise (1.1.0-2cran1ppa0trusty0ubuntu1~ubuntu18.04.1~ppa1) ...\n",
            "Removing r-cran-nnet (7.3-12-2ubuntu1) ...\n",
            "Removing r-cran-reshape2 (1.4.3-3cran1ppa0bionic0) ...\n",
            "Removing r-cran-plyr (1.8.4-3cran2ppa0bionic0) ...\n",
            "Removing r-cran-xopen (1.0.0-1cran1ppabionic0) ...\n",
            "Removing r-cran-processx (3.3.1-1cran1ppabionic0) ...\n",
            "Removing r-cran-ps (1.3.0-1cran1ppabionic0) ...\n",
            "Removing r-cran-rcolorbrewer (1.1-2-1.1ubuntu1) ...\n",
            "Removing r-cran-rematch (1.0.1-3cran2ppa0bionic0) ...\n",
            "Removing r-cran-remotes (2.1.0-1cran1ppabionic0) ...\n",
            "Removing r-cran-rstudioapi (0.10-1cran1ppabionic0) ...\n",
            "Removing r-cran-spatial (7.3-11-2ubuntu1) ...\n",
            "Removing r-cran-tinytex (0.14-1cran1ppabionic0) ...\n",
            "Removing r-cran-uuid (0.1.2-8ubuntu1) ...\n",
            "Removing r-cran-viridislite (0.3.0-3cran1ppa0bionic0) ...\n",
            "Removing r-cran-whisker (0.3-2-3cran2ppa0bionic0) ...\n",
            "Removing r-cran-withr (2.1.2-2cran1ubuntu1~ubuntu18.04.1~ppa1) ...\n",
            "Removing r-cran-xfun (0.8-1cran1ppabionic0) ...\n",
            "Removing r-cran-xml2 (1.2.0-1ubuntu1) ...\n",
            "Removing r-cran-yaml (2.2.0-3cran1ppa0bionic0) ...\n",
            "Removing r-cran-httr (1.4.0-1cran1ppabionic0) ...\n",
            "Removing r-cran-curl (3.3-1cran2~ubuntu18.04.1~ppa1) ...\n",
            "Removing r-cran-tidyr (0.8.3-1cran1ppabionic0) ...\n",
            "Removing r-cran-dplyr (0.8.2-1cran1ppabionic0) ...\n",
            "Removing r-cran-tibble (2.1.3-1cran1ppabionic0) ...\n",
            "Removing r-cran-pillar (1.4.1-1cran1ppabionic0) ...\n",
            "Removing r-cran-vctrs (0.1.0-1cran1ppabionic0) ...\n",
            "Removing r-cran-digest (0.6.19-1cran1ppabionic0) ...\n",
            "Removing r-cran-openssl (1.4-1cran1ppabionic0) ...\n",
            "Removing r-cran-askpass (1.1-1cran1ppabionic0) ...\n",
            "Removing r-cran-prettyunits (1.0.2-3cran2ppa0bionic0) ...\n",
            "Removing r-cran-desc (1.2.0-3cran1ppa0bionic0) ...\n",
            "Removing r-cran-rprojroot (1.2-1ubuntu1) ...\n",
            "Removing r-cran-backports (1.1.4-1cran1ppabionic0) ...\n",
            "Removing r-cran-bh (1.69.0-1-1cran1ppabionic0) ...\n",
            "Removing r-cran-cli (1.1.0-1cran1ppabionic0) ...\n",
            "Removing r-cran-crayon (1.3.4-2cran2ubuntu1~ubuntu18.04.1~ppa1) ...\n",
            "Removing r-cran-fansi (0.4.0-1cran1ppabionic0) ...\n",
            "Removing r-cran-tidyselect (0.2.5-1cran1ppabionic0) ...\n",
            "Removing r-cran-stringr (1.4.0-1cran1ppabionic0) ...\n",
            "Removing r-cran-glue (1.3.1-1cran1ppabionic0) ...\n",
            "Removing r-cran-jsonlite (1.6-1cran1ppabionic0) ...\n",
            "Removing r-cran-purrr (0.3.2-1cran1ppabionic0) ...\n",
            "Removing r-cran-magrittr (1.5-5cran2ubuntu2~ubuntu18.04.1~ppa1) ...\n",
            "Removing r-cran-mime (0.7-1cran1ppabionic0) ...\n",
            "Removing r-cran-pkgconfig (2.0.2-1cran1ppabionic0) ...\n",
            "Removing r-cran-plogr (0.2.0-3cran1ppa0bionic0) ...\n",
            "Removing r-cran-r6 (2.4.0-1cran1ppabionic0) ...\n",
            "Removing r-cran-rlang (0.4.0-1cran1ppabionic0) ...\n",
            "Removing r-cran-stringi (1.4.3-1cran1ppabionic0) ...\n",
            "Removing r-cran-sys (3.2-1cran1ppabionic0) ...\n",
            "Removing r-cran-utf8 (1.1.4-3cran1ppa0bionic0) ...\n",
            "Removing r-cran-zeallot (0.1.0-3cran1ppa0bionic0) ...\n",
            "Removing r-cran-rcpp (1.0.1-1~ubuntu18.04.1~ppa1) ...\n",
            "Removing r-cran-assertthat (0.2.1-1cran1ppabionic0) ...\n",
            "Removing r-cran-littler (0.3.8-1bionic0) ...\n",
            "Removing r-cran-pkgkitten (0.1.4-1.1ubuntu1) ...\n",
            "Removing r-base-core (3.6.0-2bionic) ...\n",
            "Removing libcurl4:amd64 (7.58.0-2ubuntu3.7) ...\n",
            "Selecting previously unselected package libcurl3:amd64.\n",
            "(Reading database ... 111957 files and directories currently installed.)\n",
            "Preparing to unpack .../libcurl3_7.58.0-2ubuntu2_amd64.deb ...\n",
            "Unpacking libcurl3:amd64 (7.58.0-2ubuntu2) ...\n",
            "Processing triggers for mime-support (3.60ubuntu1) ...\n",
            "Setting up libcurl3:amd64 (7.58.0-2ubuntu2) ...\n",
            "Processing triggers for libc-bin (2.27-3ubuntu1) ...\n",
            "Processing triggers for man-db (2.8.3-2ubuntu0.1) ...\n",
            "Processing triggers for hicolor-icon-theme (0.17-2) ...\n",
            "### cmake ###\n",
            "CMAKE version: cmake version 3.12.0 CMake suite maintained and supported by Kitware (kitware.com/cmake).\n",
            "### pip dependencies ###\n",
            "Collecting setuptools\n",
            "\u001b[?25l  Downloading https://files.pythonhosted.org/packages/ec/51/f45cea425fd5cb0b0380f5b0f048ebc1da5b417e48d304838c02d6288a1e/setuptools-41.0.1-py2.py3-none-any.whl (575kB)\n",
            "\u001b[K     |████████████████████████████████| 583kB 3.3MB/s \n",
            "\u001b[31mERROR: datascience 0.10.6 has requirement folium==0.2.1, but you'll have folium 0.8.3 which is incompatible.\u001b[0m\n",
            "\u001b[?25hInstalling collected packages: setuptools\n",
            "  Found existing installation: setuptools 41.0.1\n",
            "    Uninstalling setuptools-41.0.1:\n",
            "      Successfully uninstalled setuptools-41.0.1\n",
            "Successfully installed setuptools-41.0.1\n",
            "\u001b[31mERROR: datascience 0.10.6 has requirement folium==0.2.1, but you'll have folium 0.8.3 which is incompatible.\u001b[0m\n",
            "\u001b[31mERROR: albumentations 0.1.12 has requirement imgaug<0.2.7,>=0.2.5, but you'll have imgaug 0.2.9 which is incompatible.\u001b[0m\n",
            "PYTHON_INCLUDE_DIR: /usr/include/python3.6m\n",
            "PYTHON_LIBRARY: /usr/lib/libpython3.6m.so\n",
            "CMAKE_COMMON_VARIABLES: -DPYTHON_INCLUDE_DIR=/usr/include/python3.6m -DPYTHON_LIBRARY=/usr/lib/libpython3.6m.so\n",
            "### libhdfs ###\n",
            "### librmm ###\n",
            "Processing ./blazingsql-files/nvstrings-src/thirdparty/rmm/python\n",
            "Requirement already satisfied: cffi>=1.0.0 in /usr/local/lib/python3.6/dist-packages (from librmm-cffi==0.6.0) (1.12.3)\n",
            "Requirement already satisfied: pycparser in /usr/local/lib/python3.6/dist-packages (from cffi>=1.0.0->librmm-cffi==0.6.0) (2.19)\n",
            "Building wheels for collected packages: librmm-cffi\n",
            "  Building wheel for librmm-cffi (setup.py) ... \u001b[?25l\u001b[?25hdone\n",
            "  Stored in directory: /tmp/pip-ephem-wheel-cache-v5d9ri1y/wheels/ec/3f/1f/a29dcdd64525fd5379838634ab5a2e99afc8269355d2a5fd1b\n",
            "Successfully built librmm-cffi\n",
            "Installing collected packages: librmm-cffi\n",
            "Successfully installed librmm-cffi-0.6.0\n",
            "### custrings ###\n",
            "running install\n",
            "running bdist_egg\n",
            "running egg_info\n",
            "creating nvstrings_cuda100.egg-info\n",
            "writing nvstrings_cuda100.egg-info/PKG-INFO\n",
            "writing dependency_links to nvstrings_cuda100.egg-info/dependency_links.txt\n",
            "writing top-level names to nvstrings_cuda100.egg-info/top_level.txt\n",
            "writing manifest file 'nvstrings_cuda100.egg-info/SOURCES.txt'\n",
            "reading manifest file 'nvstrings_cuda100.egg-info/SOURCES.txt'\n",
            "writing manifest file 'nvstrings_cuda100.egg-info/SOURCES.txt'\n",
            "installing library code to build/bdist.linux-x86_64/egg\n",
            "running install_lib\n",
            "running build_py\n",
            "creating build\n",
            "creating build/lib.linux-x86_64-3.6\n",
            "copying nvstrings.py -> build/lib.linux-x86_64-3.6\n",
            "copying nvcategory.py -> build/lib.linux-x86_64-3.6\n",
            "copying nvtext.py -> build/lib.linux-x86_64-3.6\n",
            "running build_ext\n",
            "-- The C compiler identification is GNU 7.4.0\n",
            "-- The CXX compiler identification is GNU 7.4.0\n",
            "-- The CUDA compiler identification is NVIDIA 10.0.130\n",
            "-- Check for working C compiler: /usr/bin/cc\n",
            "-- Check for working C compiler: /usr/bin/cc -- works\n",
            "-- Detecting C compiler ABI info\n",
            "-- Detecting C compiler ABI info - done\n",
            "-- Detecting C compile features\n",
            "-- Detecting C compile features - done\n",
            "-- Check for working CXX compiler: /usr/bin/c++\n",
            "-- Check for working CXX compiler: /usr/bin/c++ -- works\n",
            "-- Detecting CXX compiler ABI info\n",
            "-- Detecting CXX compiler ABI info - done\n",
            "-- Detecting CXX compile features\n",
            "-- Detecting CXX compile features - done\n",
            "-- Check for working CUDA compiler: /usr/local/cuda/bin/nvcc\n",
            "-- Check for working CUDA compiler: /usr/local/cuda/bin/nvcc -- works\n",
            "-- Detecting CUDA compiler ABI info\n",
            "-- Detecting CUDA compiler ABI info - done\n",
            "-- NVSTRINGS: NVSTRINGS_INCLUDE set to /usr/include\n",
            "-- NVSTRINGS: NVSTRINGS_LIBRARY set to /usr/lib/libNVStrings.so\n",
            "-- NVSTRINGS: NVCATEGORY_LIBRARY set to /usr/lib/libNVCategory.so\n",
            "-- NVSTRINGS: NVTEXT_LIBRARY set to /usr/lib/libNVText.so\n",
            "-- Found PythonLibs: /usr/lib/x86_64-linux-gnu/libpython3.6m.so (found version \"3.6.8\") \n",
            "-- PYTHON: PYTHON_LIBRARIES set to /usr/lib/x86_64-linux-gnu/libpython3.6m.so\n",
            "-- PYTHON: PYTHON_INCLUDE_DIRS set to /usr/include/python3.6m\n",
            "-- PYTHON: PYTHONLIBS_VERSION_STRING set to 3.6.8\n",
            "-- Configuring done\n",
            "-- Generating done\n",
            "-- Build files have been written to: /tmp/blazing/blazingsql-files/nvstrings-src/python/build/temp.linux-x86_64-3.6\n",
            "\u001b[35m\u001b[1mScanning dependencies of target pyniNVStrings\u001b[0m\n",
            "[ 50%] \u001b[32mBuilding CXX object CMakeFiles/pyniNVStrings.dir/pystrings.cpp.o\u001b[0m\n",
            "[100%] \u001b[32m\u001b[1mLinking CXX shared library /tmp/blazing/blazingsql-files/nvstrings-src/python/build/lib.linux-x86_64-3.6/pyniNVStrings.so\u001b[0m\n",
            "[100%] Built target pyniNVStrings\n",
            "\n",
            "-- NVSTRINGS: NVSTRINGS_INCLUDE set to /usr/include\n",
            "-- NVSTRINGS: NVSTRINGS_LIBRARY set to /usr/lib/libNVStrings.so\n",
            "-- NVSTRINGS: NVCATEGORY_LIBRARY set to /usr/lib/libNVCategory.so\n",
            "-- NVSTRINGS: NVTEXT_LIBRARY set to /usr/lib/libNVText.so\n",
            "-- PYTHON: PYTHON_LIBRARIES set to /usr/lib/x86_64-linux-gnu/libpython3.6m.so\n",
            "-- PYTHON: PYTHON_INCLUDE_DIRS set to /usr/include/python3.6m\n",
            "-- PYTHON: PYTHONLIBS_VERSION_STRING set to 3.6.8\n",
            "-- Configuring done\n",
            "-- Generating done\n",
            "-- Build files have been written to: /tmp/blazing/blazingsql-files/nvstrings-src/python/build/temp.linux-x86_64-3.6\n",
            "\u001b[35m\u001b[1mScanning dependencies of target pyniNVCategory\u001b[0m\n",
            "[ 50%] \u001b[32mBuilding CXX object CMakeFiles/pyniNVCategory.dir/pycategory.cpp.o\u001b[0m\n",
            "[100%] \u001b[32m\u001b[1mLinking CXX shared library /tmp/blazing/blazingsql-files/nvstrings-src/python/build/lib.linux-x86_64-3.6/pyniNVCategory.so\u001b[0m\n",
            "[100%] Built target pyniNVCategory\n",
            "\n",
            "-- NVSTRINGS: NVSTRINGS_INCLUDE set to /usr/include\n",
            "-- NVSTRINGS: NVSTRINGS_LIBRARY set to /usr/lib/libNVStrings.so\n",
            "-- NVSTRINGS: NVCATEGORY_LIBRARY set to /usr/lib/libNVCategory.so\n",
            "-- NVSTRINGS: NVTEXT_LIBRARY set to /usr/lib/libNVText.so\n",
            "-- PYTHON: PYTHON_LIBRARIES set to /usr/lib/x86_64-linux-gnu/libpython3.6m.so\n",
            "-- PYTHON: PYTHON_INCLUDE_DIRS set to /usr/include/python3.6m\n",
            "-- PYTHON: PYTHONLIBS_VERSION_STRING set to 3.6.8\n",
            "-- Configuring done\n",
            "-- Generating done\n",
            "-- Build files have been written to: /tmp/blazing/blazingsql-files/nvstrings-src/python/build/temp.linux-x86_64-3.6\n",
            "\u001b[35m\u001b[1mScanning dependencies of target pyniNVText\u001b[0m\n",
            "[ 50%] \u001b[32mBuilding CXX object CMakeFiles/pyniNVText.dir/pytext.cpp.o\u001b[0m\n",
            "[100%] \u001b[32m\u001b[1mLinking CXX shared library /tmp/blazing/blazingsql-files/nvstrings-src/python/build/lib.linux-x86_64-3.6/pyniNVText.so\u001b[0m\n",
            "[100%] Built target pyniNVText\n",
            "\n",
            "creating build/bdist.linux-x86_64\n",
            "creating build/bdist.linux-x86_64/egg\n",
            "copying build/lib.linux-x86_64-3.6/pyniNVStrings.so -> build/bdist.linux-x86_64/egg\n",
            "copying build/lib.linux-x86_64-3.6/nvtext.py -> build/bdist.linux-x86_64/egg\n",
            "copying build/lib.linux-x86_64-3.6/nvcategory.py -> build/bdist.linux-x86_64/egg\n",
            "copying build/lib.linux-x86_64-3.6/nvstrings.py -> build/bdist.linux-x86_64/egg\n",
            "copying build/lib.linux-x86_64-3.6/pyniNVCategory.so -> build/bdist.linux-x86_64/egg\n",
            "copying build/lib.linux-x86_64-3.6/pyniNVText.so -> build/bdist.linux-x86_64/egg\n",
            "byte-compiling build/bdist.linux-x86_64/egg/nvtext.py to nvtext.cpython-36.pyc\n",
            "byte-compiling build/bdist.linux-x86_64/egg/nvcategory.py to nvcategory.cpython-36.pyc\n",
            "byte-compiling build/bdist.linux-x86_64/egg/nvstrings.py to nvstrings.cpython-36.pyc\n",
            "creating build/bdist.linux-x86_64/egg/EGG-INFO\n",
            "copying nvstrings_cuda100.egg-info/PKG-INFO -> build/bdist.linux-x86_64/egg/EGG-INFO\n",
            "copying nvstrings_cuda100.egg-info/SOURCES.txt -> build/bdist.linux-x86_64/egg/EGG-INFO\n",
            "copying nvstrings_cuda100.egg-info/dependency_links.txt -> build/bdist.linux-x86_64/egg/EGG-INFO\n",
            "copying nvstrings_cuda100.egg-info/not-zip-safe -> build/bdist.linux-x86_64/egg/EGG-INFO\n",
            "copying nvstrings_cuda100.egg-info/top_level.txt -> build/bdist.linux-x86_64/egg/EGG-INFO\n",
            "writing build/bdist.linux-x86_64/egg/EGG-INFO/native_libs.txt\n",
            "creating dist\n",
            "creating 'dist/nvstrings_cuda100-0.0.0.dev0-py3.6-linux-x86_64.egg' and adding 'build/bdist.linux-x86_64/egg' to it\n",
            "removing 'build/bdist.linux-x86_64/egg' (and everything under it)\n",
            "Processing nvstrings_cuda100-0.0.0.dev0-py3.6-linux-x86_64.egg\n",
            "creating /usr/local/lib/python3.6/dist-packages/nvstrings_cuda100-0.0.0.dev0-py3.6-linux-x86_64.egg\n",
            "Extracting nvstrings_cuda100-0.0.0.dev0-py3.6-linux-x86_64.egg to /usr/local/lib/python3.6/dist-packages\n",
            "Adding nvstrings-cuda100 0.0.0.dev0 to easy-install.pth file\n",
            "\n",
            "Installed /usr/local/lib/python3.6/dist-packages/nvstrings_cuda100-0.0.0.dev0-py3.6-linux-x86_64.egg\n",
            "Processing dependencies for nvstrings-cuda100==0.0.0.dev0\n",
            "Finished processing dependencies for nvstrings-cuda100==0.0.0.dev0\n",
            "Wheel not found: dist/nvstrings_cuda100-0.0.0.dev0-cp36-cp36m-linux_x86_64.whl\n",
            "### test custrings ###\n",
            "### cudf ###\n",
            "Processing /tmp/blazing/blazingsql-files/cudf/python\n",
            "Requirement already satisfied: numba in /usr/local/lib/python3.6/dist-packages (from cudf==0+unknown) (0.43.0)\n",
            "Requirement already satisfied: cython in /usr/local/lib/python3.6/dist-packages (from cudf==0+unknown) (0.29.12)\n",
            "Requirement already satisfied: numpy in /usr/local/lib/python3.6/dist-packages (from numba->cudf==0+unknown) (1.16.2)\n",
            "Requirement already satisfied: llvmlite>=0.28.0dev0 in /usr/local/lib/python3.6/dist-packages (from numba->cudf==0+unknown) (0.29.0)\n",
            "Building wheels for collected packages: cudf\n",
            "  Building wheel for cudf (setup.py) ... \u001b[?25l\u001b[?25hdone\n",
            "  Stored in directory: /tmp/pip-ephem-wheel-cache-lfcrza55/wheels/7b/9b/bd/ecb5759e73f8039994b5cb5a8c5708766bdd1794c0c55c9b91\n",
            "Successfully built cudf\n",
            "Installing collected packages: cudf\n",
            "Successfully installed cudf-0+unknown\n",
            "### test cudf ###\n",
            "### protocol ###\n",
            "Processing /tmp/blazing/blazingsql-files/blazingdb-protocol/python\n",
            "Requirement already satisfied: flatbuffers in /usr/local/lib/python3.6/dist-packages (from blazingdb-protocol==1.0) (1.11)\n",
            "Building wheels for collected packages: blazingdb-protocol\n",
            "  Building wheel for blazingdb-protocol (setup.py) ... \u001b[?25l\u001b[?25hdone\n",
            "  Stored in directory: /tmp/pip-ephem-wheel-cache-fvfc_9xl/wheels/ea/26/c2/0386b4502636556cebd81bc70662053bfb30ae9a6e58a19c88\n",
            "Successfully built blazingdb-protocol\n",
            "Installing collected packages: blazingdb-protocol\n",
            "Successfully installed blazingdb-protocol-1.0\n",
            "### pyblazing ###\n",
            "Processing /tmp/blazing/blazingsql-files/pyBlazing\n",
            "Building wheels for collected packages: PyBlazing\n",
            "  Building wheel for PyBlazing (setup.py) ... \u001b[?25l\u001b[?25hdone\n",
            "  Stored in directory: /tmp/pip-ephem-wheel-cache-hkhdubc2/wheels/05/df/16/4c041cbaa6aa1f8d281544f6e09d8b55e0359db8b4ae1375e3\n",
            "Successfully built PyBlazing\n",
            "Installing collected packages: PyBlazing\n",
            "Successfully installed PyBlazing-0.1\n",
            "### test pyblazing ###\n",
            "### binaries ###\n",
            "### downloading demo files ###\n",
            "### supervisor ###\n",
            "Starting supervisor: supervisord.\n",
            "supervisord is running\n",
            "blazing-calcite                  STARTING  \n",
            "blazing-orchestrator             STARTING  \n",
            "blazing-ral                      STARTING  \n",
            "### BlazingSQL installation finished ###\n",
            "You can run the command to view status:\n",
            "!blazingsql status\n",
            "Demo files are in /blazingsql/\n",
            "total 28\n",
            "drwxrwxrwx 3 root root 4096 Jul 18 00:13 .\n",
            "drwxr-xr-x 1 root root 4096 Jul 18 00:13 ..\n",
            "drwxrwxrwx 2 root root 4096 Jul 18 00:13 data\n",
            "-rw-r--r-- 1 root root  709 Jul 12 21:27 demo1.py\n",
            "-rw-r--r-- 1 root root  730 Jul 12 21:27 demo2.py\n",
            "-rw-r--r-- 1 root root  558 Jul 12 21:27 demo3.py\n",
            "-rw-r--r-- 1 root root  477 Jul 12 21:27 demo4.py\n",
            "Run these commands, copy its content and/or execute it:\n",
            "!cat /blazingsql/demo1.py\n",
            "!python /blazingsql/demo1.py\n"
          ],
          "name": "stdout"
        }
      ]
    },
    {
      "cell_type": "markdown",
      "metadata": {
        "id": "q63Do5g6R2rQ",
        "colab_type": "text"
      },
      "source": [
        "## Sanity Check\n",
        "Confirm all three BlazingSQL components are running. These are the main components of the BlazingSQL engine and will confirm that the install process worked."
      ]
    },
    {
      "cell_type": "code",
      "metadata": {
        "id": "kKjsNZGfRwAv",
        "colab_type": "code",
        "outputId": "aa90d9ab-1fb7-4ea5-e74a-19d5a16db29c",
        "colab": {
          "base_uri": "https://localhost:8080/",
          "height": 68
        }
      },
      "source": [
        "!blazingsql status"
      ],
      "execution_count": 0,
      "outputs": [
        {
          "output_type": "stream",
          "text": [
            "blazing-calcite                  RUNNING   pid 3202, uptime 0:00:02\n",
            "blazing-orchestrator             RUNNING   pid 3204, uptime 0:00:02\n",
            "blazing-ral                      RUNNING   pid 3203, uptime 0:00:02\n"
          ],
          "name": "stdout"
        }
      ]
    },
    {
      "cell_type": "markdown",
      "metadata": {
        "id": "99730IxrnWuk",
        "colab_type": "text"
      },
      "source": [
        "## Clear Runtime\n",
        "\n",
        "Before you continue, please go to the 'Runtime' Menu above, and select 'Reset Runtime'. "
      ]
    },
    {
      "cell_type": "markdown",
      "metadata": {
        "id": "aC-sN12VSRRX",
        "colab_type": "text"
      },
      "source": [
        "# You are ready to go with BlazingSQL!\n",
        "Nice Job! Now lets see how it works."
      ]
    },
    {
      "cell_type": "markdown",
      "metadata": {
        "id": "aMwNKxePSwOp",
        "colab_type": "text"
      },
      "source": [
        "# Import packages and create Blazing Context\n",
        "You can think of the BlazingContext much like a Spark Context. This is where information such as FileSystems you have registered, Tables you have created will be stored.\n",
        "\n",
        "If you have issues running this cell, restart runtime and try running it again.\n"
      ]
    },
    {
      "cell_type": "code",
      "metadata": {
        "id": "xU3CNhEZSNAr",
        "colab_type": "code",
        "outputId": "3bd46d51-8b0d-4a6e-dc3d-202006a7bbbb",
        "colab": {
          "base_uri": "https://localhost:8080/",
          "height": 34
        }
      },
      "source": [
        "# Set Environment Variables\n",
        "import sys, os\n",
        "os.environ[\"NUMBAPRO_NVVM\"] = \"/usr/local/cuda/nvvm/lib64/libnvvm.so\"\n",
        "os.environ[\"NUMBAPRO_LIBDEVICE\"] = \"/usr/local/cuda/nvvm/libdevice/\"\n",
        "\n",
        "# Import RAPIDS AI stack\n",
        "from blazingsql import BlazingContext\n",
        "import cudf\n",
        "\n",
        "bc = BlazingContext()"
      ],
      "execution_count": 0,
      "outputs": [
        {
          "output_type": "stream",
          "text": [
            "connection established\n"
          ],
          "name": "stdout"
        }
      ]
    },
    {
      "cell_type": "markdown",
      "metadata": {
        "id": "N2bqpDEnZyQf",
        "colab_type": "text"
      },
      "source": [
        "# Read CSV\n",
        "First we uploaded a CSV file through the Google Colab interface. \n",
        "\n",
        "Then we use cuDF to read the CSV file. This gives us a GPU DataFrame (GDF).\n",
        "\n",
        "To learn more about the GDF and how it enables end to end workloads on rapids, read [this](https://blog.blazingdb.com/blazingsql-part-1-the-gpu-dataframe-gdf-and-cudf-in-rapids-ai-96ec15102240)."
      ]
    },
    {
      "cell_type": "code",
      "metadata": {
        "id": "iqRDacOBOg44",
        "colab_type": "code",
        "outputId": "d9358c73-9b24-49f9-d3c4-ea7060d95b50",
        "colab": {
          "base_uri": "https://localhost:8080/",
          "height": 204
        }
      },
      "source": [
        "#Download the test CSV\n",
        "!wget 'https://s3.amazonaws.com/blazingsql-colab/Music.csv'"
      ],
      "execution_count": 0,
      "outputs": [
        {
          "output_type": "stream",
          "text": [
            "--2019-07-18 00:14:40--  https://s3.amazonaws.com/blazingsql-colab/Music.csv\n",
            "Resolving s3.amazonaws.com (s3.amazonaws.com)... 52.216.161.133\n",
            "Connecting to s3.amazonaws.com (s3.amazonaws.com)|52.216.161.133|:443... connected.\n",
            "HTTP request sent, awaiting response... 200 OK\n",
            "Length: 10473 (10K) [text/csv]\n",
            "Saving to: ‘Music.csv’\n",
            "\n",
            "\rMusic.csv             0%[                    ]       0  --.-KB/s               \rMusic.csv           100%[===================>]  10.23K  --.-KB/s    in 0s      \n",
            "\n",
            "2019-07-18 00:14:40 (179 MB/s) - ‘Music.csv’ saved [10473/10473]\n",
            "\n"
          ],
          "name": "stdout"
        }
      ]
    },
    {
      "cell_type": "code",
      "metadata": {
        "id": "HhRhj-ZvZygH",
        "colab_type": "code",
        "colab": {}
      },
      "source": [
        "gdf = cudf.read_csv('Music.csv')\n"
      ],
      "execution_count": 0,
      "outputs": []
    },
    {
      "cell_type": "markdown",
      "metadata": {
        "id": "HJFz-mqZTJ5Z",
        "colab_type": "text"
      },
      "source": [
        "# Create a Table\n",
        "\n",
        "Now we just need to create a table. Apache Parquet is a great, open source and distributed file format built for systems like HDFS. Apache Parquet files also have metadata which self describes the schema, making import a cinch!"
      ]
    },
    {
      "cell_type": "code",
      "metadata": {
        "id": "HJuvtJDYTMyb",
        "colab_type": "code",
        "colab": {}
      },
      "source": [
        "bc.create_table('music', gdf)"
      ],
      "execution_count": 0,
      "outputs": []
    },
    {
      "cell_type": "markdown",
      "metadata": {
        "id": "98HJFrt5TRa0",
        "colab_type": "text"
      },
      "source": [
        "# Query a Table\n",
        "That's it! Now you can write a SQL query and the data will get processed on the GPU with BlazingSQL, and the output will be a GPU DataFrame (GDF) inside RAPIDS!"
      ]
    },
    {
      "cell_type": "code",
      "metadata": {
        "id": "14GwxmLsTV_p",
        "colab_type": "code",
        "outputId": "bd9e9009-156e-476d-fbee-b5ef3eee7319",
        "colab": {
          "base_uri": "https://localhost:8080/",
          "height": 221
        }
      },
      "source": [
        "#Query\n",
        "result = bc.sql('SELECT * FROM main.music').get()\n",
        "\n",
        "#Get GDF\n",
        "result_gdf = result.columns\n",
        "\n",
        "#Print GDF\n",
        "print(result_gdf)"
      ],
      "execution_count": 0,
      "outputs": [
        {
          "output_type": "stream",
          "text": [
            "                         ARTIST  RATING    YEAR       LOCATION  FESTIVAL_SET\n",
            "0                  Arcade Fire    10.0  2018.0      Las Vegas           1.0\n",
            "1                      Justice    10.0  2018.0      Las Vegas           1.0\n",
            "2     Florence and The Machine    10.0  2018.0      Las Vegas           1.0\n",
            "3                       Odesza    10.0  2018.0          Indio           1.0\n",
            "4                     Bon Iver    10.0  2017.0          Indio           1.0\n",
            "5  LA Philharmonic + Sigur Ros    10.0  2017.0             LA           0.0\n",
            "6                    Sigur Ros    10.0  2014.0          Malmo           0.0\n",
            "7                  Arcade Fire    10.0  2014.0          Indio           1.0\n",
            "8                       Escort     9.0  2018.0  San Francisco           0.0\n",
            "9                      Phoenix     9.0  2018.0       Berkeley           0.0\n",
            "[336 more rows]\n"
          ],
          "name": "stdout"
        }
      ]
    },
    {
      "cell_type": "markdown",
      "metadata": {
        "id": "wygAeTIFTm2X",
        "colab_type": "text"
      },
      "source": [
        "And... thats it! You are now live with BlazingSQL. Check out our [docs](https://docs.blazingdb.com) to get fancy as well as to learn more about how BlazingSQL works with the rest of [RAPIDS AI](https://rapids.ai/). "
      ]
    }
  ]
}