{
 "metadata": {
  "name": "",
  "signature": "sha256:34c1d034360c1bdafac1ab3c64fcd5bed5a93982d7320c27554af0c0ec54723b"
 },
 "nbformat": 3,
 "nbformat_minor": 0,
 "worksheets": [
  {
   "cells": [
    {
     "cell_type": "code",
     "collapsed": false,
     "input": [
      "import hashlib"
     ],
     "language": "python",
     "metadata": {},
     "outputs": [],
     "prompt_number": 2
    },
    {
     "cell_type": "code",
     "collapsed": false,
     "input": [
      "# ip address range\n",
      "baseAddress = \"192.168.1.\"\n",
      "\n",
      "#define host range\n",
      "hostAddress = range(4,10,1)\n",
      "\n",
      "# now define a null list\n",
      "ipList = []\n",
      "\n",
      "#now loop through the host range and build ip addresses\n",
      "# List object is not like other programming language arrays, where you call array[i] for ith element. it is instead callable directly\n",
      "# from a loop like below\n",
      "\n",
      "for i in hostAddress:\n",
      "    ipList.append(baseAddress + str(i))\n",
      "\n",
      "for ipAddress in ipList:\n",
      "    print ipAddress"
     ],
     "language": "python",
     "metadata": {},
     "outputs": [
      {
       "output_type": "stream",
       "stream": "stdout",
       "text": [
        "192.168.1.4\n",
        "192.168.1.5\n",
        "192.168.1.6\n",
        "192.168.1.7\n",
        "192.168.1.8\n",
        "192.168.1.9\n"
       ]
      }
     ],
     "prompt_number": 7
    },
    {
     "cell_type": "code",
     "collapsed": false,
     "input": [
      "# this code demonstrates exception handling in python\n",
      "x = 27\n",
      "y = 0\n",
      "\n",
      "a = 21\n",
      "b = 0\n",
      "\n",
      "# looks like try and catch works like begin end exception blocks in PL/SQL\n",
      "# where you can include the code that is text different in try and catch blocks\n",
      "\n",
      "try:\n",
      "    z = x/y\n",
      "    print z\n",
      "    print\n",
      "except:\n",
      "    print (\"divide by 0 error while calculating z\\n\")\n",
      "\n",
      "try:\n",
      "    c = a/b\n",
      "    print c\n",
      "    print\n",
      "except:\n",
      "    print (\"divide by 0 error while calculating c\\n\")\n"
     ],
     "language": "python",
     "metadata": {},
     "outputs": [
      {
       "output_type": "stream",
       "stream": "stdout",
       "text": [
        "divide by 0 error while calculating z\n",
        "\n",
        "divide by 0 error while calculating c\n",
        "\n"
       ]
      }
     ],
     "prompt_number": 13
    },
    {
     "cell_type": "code",
     "collapsed": false,
     "input": [
      "# demosntration of operating system capabilities included in python\n",
      "import os\n",
      "myCWD = os.getcwd()\n",
      "\n",
      "dirContents = os.listdir(myCWD)\n",
      "\n",
      "for i in dirContents:\n",
      "    print i\n"
     ],
     "language": "python",
     "metadata": {},
     "outputs": [
      {
       "output_type": "stream",
       "stream": "stdout",
       "text": [
        ".ipynb_checkpoints\n",
        "iprange.py\n",
        "hashprint.py\n",
        "Python_Forensics.ipynb\n"
       ]
      }
     ],
     "prompt_number": 17
    },
    {
     "cell_type": "code",
     "collapsed": false,
     "input": [
      "# python forensics\n",
      "# Simple program to generate SHA256\n",
      "# one way vrypographic has of a given string\n",
      "\n",
      "# step 1: import hashlib \n",
      "import hashlib\n",
      "\n",
      "# print message to the user\n",
      "print\n",
      "print \"Simple program to generate SHA-256 for a given string\"\n",
      "print\n",
      "\n",
      "# define string with desired text\n",
      "myString = \"Python Forensics\"\n",
      "\n",
      "# create an object named hash with sha256 type\n",
      "hash = hashlib.sha256()\n",
      "\n",
      "# utilize update method of hash object to generate SHA256 hash of given string\n",
      "\n",
      "# ***************** imp *******************************\n",
      "# Update the hash object with the string arg. Repeated calls are \n",
      "# equivalent to a single call with the concatenation of all the arguments: \n",
      "# m.update(a); m.update(b) is equivalent to m.update(a+b).\n",
      "# ***************** imp *******************************\n",
      "\n",
      "hash.update(myString)\n",
      "\n",
      "#obtain hex values of hash\n",
      "hexSHA256 = hash.hexdigest()\n",
      "\n",
      "# print sha256\n",
      "print \"SHA256 has for the string is: \" + hexSHA256.upper()\n",
      "print "
     ],
     "language": "python",
     "metadata": {},
     "outputs": [
      {
       "output_type": "stream",
       "stream": "stdout",
       "text": [
        "\n",
        "Simple program to generate SHA-256 for a given string\n",
        "\n",
        "SHA256 has for the string is: 7A0BDF5725E0E032349871C8409522C0BF6971975C63F3F8041E2522148B9CF3\n",
        "\n"
       ]
      }
     ],
     "prompt_number": 18
    }
   ],
   "metadata": {}
  }
 ]
}